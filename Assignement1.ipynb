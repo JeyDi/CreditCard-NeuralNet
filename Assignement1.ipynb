{
 "cells": [
  {
   "cell_type": "markdown",
   "metadata": {},
   "source": [
    "# Load Libraries"
   ]
  },
  {
   "cell_type": "code",
   "execution_count": 7,
   "metadata": {},
   "outputs": [
    {
     "name": "stdout",
     "output_type": "stream",
     "text": [
      "Numpy: 1.14.3\n",
      "Pandas: 0.23.0\n",
      "Scipy: 1.1.0\n",
      "Matplotlib: 2.2.2\n",
      "iPython: 6.4.0\n",
      "Scikit-learn: 0.19.1\n"
     ]
    },
    {
     "name": "stderr",
     "output_type": "stream",
     "text": [
      "C:\\ProgramData\\Anaconda3\\lib\\site-packages\\h5py\\__init__.py:36: FutureWarning: Conversion of the second argument of issubdtype from `float` to `np.floating` is deprecated. In future, it will be treated as `np.float64 == np.dtype(float).type`.\n",
      "  from ._conv import register_converters as _register_converters\n",
      "Using TensorFlow backend.\n"
     ]
    },
    {
     "name": "stdout",
     "output_type": "stream",
     "text": [
      "Keras:  2.2.4\n",
      "Theano:  1.0.3\n",
      "Tensorflow:  1.11.0\n"
     ]
    }
   ],
   "source": [
    "#Default instruction for intellisense use in code\n",
    "%config IPCompleter.greedy=True\n",
    "\n",
    "#Verify installation of packages\n",
    "import numpy as np\n",
    "print('Numpy:', np.__version__)\n",
    "\n",
    "import pandas as pd\n",
    "print('Pandas:', pd.__version__)\n",
    "\n",
    "import scipy as sp\n",
    "print('Scipy:', sp.__version__)\n",
    "\n",
    "import matplotlib as mpl\n",
    "print('Matplotlib:', mpl.__version__)\n",
    "\n",
    "import IPython as ip\n",
    "print('iPython:', ip.__version__)\n",
    "\n",
    "import sklearn as skl\n",
    "print('Scikit-learn:', skl.__version__)\n",
    "\n",
    "import keras as ker\n",
    "print('Keras: ', ker.__version__)\n",
    "\n",
    "# optional\n",
    "import theano as th\n",
    "print('Theano: ', th.__version__)\n",
    "\n",
    "import tensorflow as tf\n",
    "print('Tensorflow: ', tf.__version__)"
   ]
  },
  {
   "cell_type": "markdown",
   "metadata": {},
   "source": [
    "# Import Data"
   ]
  },
  {
   "cell_type": "code",
   "execution_count": null,
   "metadata": {},
   "outputs": [],
   "source": [
    "from import_data import load_data, preprocess_data, preprocess_labels\n",
    "\n",
    "library = \"./\"\n",
    "train_file = \"training_data.csv\"\n",
    "test_file = \"testing_data.csv\"\n",
    "\n",
    "train_data_path = library + \"/\" + train_file\n",
    "test_data_path = library + \"/\" + test_file\n",
    "\n",
    "train_data = load_data(train_data_path, train=True)\n",
    "test_data = load_data(test_data_path, train=False)\n",
    "\n",
    "df = pd.read_csv(train_data_path)\n",
    "print(df)"
   ]
  },
  {
   "cell_type": "code",
   "execution_count": null,
   "metadata": {},
   "outputs": [],
   "source": []
  },
  {
   "cell_type": "code",
   "execution_count": null,
   "metadata": {},
   "outputs": [],
   "source": []
  }
 ],
 "metadata": {
  "kernelspec": {
   "display_name": "Python 3",
   "language": "python",
   "name": "python3"
  },
  "language_info": {
   "codemirror_mode": {
    "name": "ipython",
    "version": 3
   },
   "file_extension": ".py",
   "mimetype": "text/x-python",
   "name": "python",
   "nbconvert_exporter": "python",
   "pygments_lexer": "ipython3",
   "version": "3.6.5"
  }
 },
 "nbformat": 4,
 "nbformat_minor": 2
}
